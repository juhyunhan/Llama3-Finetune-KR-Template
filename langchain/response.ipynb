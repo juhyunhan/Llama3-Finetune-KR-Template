{
 "cells": [
  {
   "cell_type": "code",
   "execution_count": 9,
   "metadata": {},
   "outputs": [],
   "source": [
    "import requests\n",
    "import json\n",
    "\n",
    "def get_stream(message):\n",
    "    s = requests.Session()\n",
    "    headers = {\"Content-type\": \"application/json\"}\n",
    "    data = {\"content\": message}\n",
    "    with s.post(\n",
    "        \"http://localhost:8000/stream_chat\",\n",
    "        data=json.dumps(data),\n",
    "        headers=headers,\n",
    "        stream=True,\n",
    "    ) as r:\n",
    "        for line in r.iter_content(64):  #16byte\n",
    "            try: \n",
    "                print(line.decode(\"utf-8\"), end=\"\")\n",
    "            except:\n",
    "                print(line)\n",
    "\n"
   ]
  },
  {
   "cell_type": "code",
   "execution_count": 10,
   "metadata": {},
   "outputs": [
    {
     "name": "stdout",
     "output_type": "stream",
     "text": [
      "근로계약서 작성에 오류가 있어 사장님이 임금을 주지 않는 상황에 대해 찾아본 판례(사건번호: 2024다12345)에 따르면, 근로계약의 부당한 해지와 관련하여 근로자는 임금 청구 권리가 있습니다. 특히, 해당 판례에서는 회사가 정당한 해지 사유 없이 계약을 해지한 것으로 판단하였으며, 미지급 임금과 손해배상금을 지급할 것을 명령하였습니다. 따라서, 근로계약서 작성에 오류가 있더라도 사장님이 임금을 주지 않는 것은 법적으로 문제가 될 수 있습니다. 이 문제를 해결하기 위해서는 법적 조치를 고려해보시는 것이 좋을 수 있습니다"
     ]
    }
   ],
   "source": [
    "get_stream(\"근로계약서를 잘못 작성해서 사장님이 돈을 안줘..\")"
   ]
  },
  {
   "cell_type": "code",
   "execution_count": null,
   "metadata": {},
   "outputs": [],
   "source": []
  }
 ],
 "metadata": {
  "kernelspec": {
   "display_name": "python3.9",
   "language": "python",
   "name": "python3"
  },
  "language_info": {
   "codemirror_mode": {
    "name": "ipython",
    "version": 3
   },
   "file_extension": ".py",
   "mimetype": "text/x-python",
   "name": "python",
   "nbconvert_exporter": "python",
   "pygments_lexer": "ipython3",
   "version": "3.9.18"
  }
 },
 "nbformat": 4,
 "nbformat_minor": 2
}
